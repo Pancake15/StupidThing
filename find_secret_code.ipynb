{
 "cells": [
  {
   "cell_type": "code",
   "execution_count": null,
   "metadata": {},
   "outputs": [],
   "source": [
    "from pressure_testing import secret_code\n",
    "\n",
    "z = !conda info | grep 'active env'\n",
    "s = z[0][-4:]\n",
    "\n",
    "str(secret_code()) + s"
   ]
  }
 ],
 "metadata": {
  "kernelspec": {
   "display_name": "ds-boot-camp-prep",
   "language": "python",
   "name": "python3"
  },
  "language_info": {
   "codemirror_mode": {
    "name": "ipython",
    "version": 3
   },
   "file_extension": ".py",
   "mimetype": "text/x-python",
   "name": "python",
   "nbconvert_exporter": "python",
   "pygments_lexer": "ipython3",
   "version": "3.12.4"
  }
 },
 "nbformat": 4,
 "nbformat_minor": 2
}
